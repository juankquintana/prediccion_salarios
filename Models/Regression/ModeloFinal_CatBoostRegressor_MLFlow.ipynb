{
 "cells": [
  {
   "cell_type": "code",
   "execution_count": 0,
   "metadata": {
    "application/vnd.databricks.v1+cell": {
     "cellMetadata": {
      "byteLimit": 2048000,
      "rowLimit": 10000
     },
     "inputWidgets": {},
     "nuid": "77fdb179-3d81-4705-85a6-b088aa873819",
     "showTitle": false,
     "tableResultSettingsMap": {},
     "title": ""
    }
   },
   "outputs": [],
   "source": [
    "# Librerias\n",
    "import matplotlib.pyplot as plt\n",
    "import numpy as np\n",
    "import pandas as pd\n",
    "import seaborn as sns\n",
    "import mlflow\n",
    "import mlflow.sklearn  # O la biblioteca que uses para tu modelo\n",
    "\n",
    "from sklearn.compose import ColumnTransformer\n",
    "from sklearn.pipeline import Pipeline\n",
    "\n",
    "from scipy.stats import uniform, randint\n",
    "from random import random, seed\n",
    "from sklearn.model_selection import RandomizedSearchCV, train_test_split, StratifiedKFold, RepeatedStratifiedKFold\n",
    "\n",
    "from xgboost import plot_importance\n",
    "\n",
    "import time\n",
    "import warnings \n",
    "#warnings.filterwarnings(\"ignore\")\n",
    "\n",
    "%matplotlib inline\n",
    "import joblib"
   ]
  },
  {
   "cell_type": "code",
   "execution_count": 0,
   "metadata": {
    "application/vnd.databricks.v1+cell": {
     "cellMetadata": {
      "byteLimit": 2048000,
      "rowLimit": 10000
     },
     "inputWidgets": {},
     "nuid": "17520a56-97af-4b7d-8c8d-d2c3fd5e4d8d",
     "showTitle": false,
     "tableResultSettingsMap": {},
     "title": ""
    }
   },
   "outputs": [
    {
     "output_type": "stream",
     "name": "stdout",
     "output_type": "stream",
     "text": [
      "Requirement already satisfied: catboost in /local_disk0/.ephemeral_nfs/envs/pythonEnv-e384c77a-e478-4b78-9402-ff096e60e0ad/lib/python3.11/site-packages (1.2.7)\nRequirement already satisfied: graphviz in /local_disk0/.ephemeral_nfs/envs/pythonEnv-e384c77a-e478-4b78-9402-ff096e60e0ad/lib/python3.11/site-packages (from catboost) (0.20.3)\nRequirement already satisfied: matplotlib in /databricks/python3/lib/python3.11/site-packages (from catboost) (3.7.2)\nRequirement already satisfied: numpy<2.0,>=1.16.0 in /databricks/python3/lib/python3.11/site-packages (from catboost) (1.23.5)\nRequirement already satisfied: pandas>=0.24 in /databricks/python3/lib/python3.11/site-packages (from catboost) (1.5.3)\nRequirement already satisfied: scipy in /databricks/python3/lib/python3.11/site-packages (from catboost) (1.11.1)\nRequirement already satisfied: plotly in /databricks/python3/lib/python3.11/site-packages (from catboost) (5.9.0)\nRequirement already satisfied: six in /usr/lib/python3/dist-packages (from catboost) (1.16.0)\nRequirement already satisfied: python-dateutil>=2.8.1 in /databricks/python3/lib/python3.11/site-packages (from pandas>=0.24->catboost) (2.8.2)\nRequirement already satisfied: pytz>=2020.1 in /databricks/python3/lib/python3.11/site-packages (from pandas>=0.24->catboost) (2022.7)\nRequirement already satisfied: contourpy>=1.0.1 in /databricks/python3/lib/python3.11/site-packages (from matplotlib->catboost) (1.0.5)\nRequirement already satisfied: cycler>=0.10 in /databricks/python3/lib/python3.11/site-packages (from matplotlib->catboost) (0.11.0)\nRequirement already satisfied: fonttools>=4.22.0 in /databricks/python3/lib/python3.11/site-packages (from matplotlib->catboost) (4.25.0)\nRequirement already satisfied: kiwisolver>=1.0.1 in /databricks/python3/lib/python3.11/site-packages (from matplotlib->catboost) (1.4.4)\nRequirement already satisfied: packaging>=20.0 in /databricks/python3/lib/python3.11/site-packages (from matplotlib->catboost) (23.2)\nRequirement already satisfied: pillow>=6.2.0 in /databricks/python3/lib/python3.11/site-packages (from matplotlib->catboost) (9.4.0)\nRequirement already satisfied: pyparsing<3.1,>=2.3.1 in /databricks/python3/lib/python3.11/site-packages (from matplotlib->catboost) (3.0.9)\nRequirement already satisfied: tenacity>=6.2.0 in /databricks/python3/lib/python3.11/site-packages (from plotly->catboost) (8.2.2)\n\u001B[43mNote: you may need to restart the kernel using %restart_python or dbutils.library.restartPython() to use updated packages.\u001B[0m\n"
     ]
    }
   ],
   "source": [
    "pip install catboost"
   ]
  },
  {
   "cell_type": "code",
   "execution_count": 0,
   "metadata": {
    "application/vnd.databricks.v1+cell": {
     "cellMetadata": {
      "byteLimit": 2048000,
      "rowLimit": 10000
     },
     "inputWidgets": {},
     "nuid": "1e87d138-0f55-4943-a8a2-0e931a6efe00",
     "showTitle": false,
     "tableResultSettingsMap": {},
     "title": ""
    }
   },
   "outputs": [],
   "source": [
    "# # 1. Carga de los datos\n",
    "# data_top10=pd.read_csv('../../Data/data_top10_country.csv') # to read data from github\n",
    "# data_top10.head(3)\n",
    "\n",
    "url = 'https://raw.githubusercontent.com/juankquintana/prediccion_salarios/refs/heads/main/Data/data_top10_country.csv'\n",
    "data_top10= pd.read_csv(url)"
   ]
  },
  {
   "cell_type": "code",
   "execution_count": 0,
   "metadata": {
    "application/vnd.databricks.v1+cell": {
     "cellMetadata": {
      "byteLimit": 2048000,
      "rowLimit": 10000
     },
     "inputWidgets": {},
     "nuid": "a7b1327e-e32e-434d-ba50-38844df5016a",
     "showTitle": false,
     "tableResultSettingsMap": {},
     "title": ""
    }
   },
   "outputs": [
    {
     "output_type": "stream",
     "name": "stdout",
     "output_type": "stream",
     "text": [
      "<class 'pandas.core.frame.DataFrame'>\nRangeIndex: 11193 entries, 0 to 11192\nData columns (total 10 columns):\n #   Column              Non-Null Count  Dtype \n---  ------              --------------  ----- \n 0   experience_level    11193 non-null  object\n 1   employment_type     11193 non-null  object\n 2   job_title           11193 non-null  object\n 3   salary_in_usd       11193 non-null  int64 \n 4   employee_residence  11193 non-null  object\n 5   remote_ratio        11193 non-null  int64 \n 6   company_location    11193 non-null  object\n 7   company_size        11193 non-null  object\n 8   company_country     11193 non-null  object\n 9   employee_country    11193 non-null  object\ndtypes: int64(2), object(8)\nmemory usage: 874.6+ KB\n"
     ]
    }
   ],
   "source": [
    "# 2.  Separación Entrenamiento y Prueba\n",
    "data_top10.columns\n",
    "data_top10.info()"
   ]
  },
  {
   "cell_type": "code",
   "execution_count": 0,
   "metadata": {
    "application/vnd.databricks.v1+cell": {
     "cellMetadata": {
      "byteLimit": 2048000,
      "rowLimit": 10000
     },
     "inputWidgets": {},
     "nuid": "9165a563-a0ce-4bbe-8834-8a7c4e81ef0b",
     "showTitle": false,
     "tableResultSettingsMap": {},
     "title": ""
    }
   },
   "outputs": [
    {
     "output_type": "stream",
     "name": "stdout",
     "output_type": "stream",
     "text": [
      "<class 'pandas.core.frame.DataFrame'>\nRangeIndex: 11193 entries, 0 to 11192\nData columns (total 4 columns):\n #   Column            Non-Null Count  Dtype \n---  ------            --------------  ----- \n 0   experience_level  11193 non-null  object\n 1   job_title         11193 non-null  object\n 2   company_country   11193 non-null  object\n 3   employee_country  11193 non-null  object\ndtypes: object(4)\nmemory usage: 349.9+ KB\n"
     ]
    }
   ],
   "source": [
    "# Preparación de Datos\n",
    "# Treat 'remote_ratio' as a categorical feature by converting it to 'object' type\n",
    "data_top10['remote_ratio'] = data_top10['remote_ratio'].astype(str)\n",
    "# Eliminación columnas redundantes o innecesarias en X_r\n",
    "columns_to_drop_regression = ['salary_in_usd','employee_residence', 'company_location', 'employment_type', \n",
    "                              'company_size','remote_ratio'] # 3 ultimas no son importantes para el modelo\n",
    "\n",
    "# sample for regression\n",
    "y_r = data_top10['salary_in_usd']\n",
    "X_r = data_top10.drop(columns_to_drop_regression, axis=1)\n",
    "X_r.info()"
   ]
  },
  {
   "cell_type": "code",
   "execution_count": 0,
   "metadata": {
    "application/vnd.databricks.v1+cell": {
     "cellMetadata": {
      "byteLimit": 2048000,
      "rowLimit": 10000
     },
     "inputWidgets": {},
     "nuid": "18bf36f5-9f77-47a0-af71-6e5f89257c97",
     "showTitle": false,
     "tableResultSettingsMap": {},
     "title": ""
    }
   },
   "outputs": [],
   "source": [
    "# Separación Train/Test\n",
    "Xr_train, Xr_test, yr_train, yr_test = train_test_split(X_r, y_r, test_size=0.2, random_state=77)\n",
    "cat_features = Xr_train.columns.tolist() "
   ]
  },
  {
   "cell_type": "code",
   "execution_count": 0,
   "metadata": {
    "application/vnd.databricks.v1+cell": {
     "cellMetadata": {
      "byteLimit": 2048000,
      "rowLimit": 10000
     },
     "inputWidgets": {},
     "nuid": "64bf3265-4a8e-4c1a-b15b-01c20c7ee279",
     "showTitle": false,
     "tableResultSettingsMap": {},
     "title": ""
    }
   },
   "outputs": [],
   "source": [
    "experiment_name = \"/Users/p.luissi@uniandes.edu.co/CatBoostRegresion\"  \n",
    "\n",
    "# Busca el experimento por nombre\n",
    "experiment = mlflow.get_experiment_by_name(experiment_name)\n",
    "\n",
    "if experiment is None:\n",
    "    # Si el experimento no existe, lo creamos\n",
    "    experiment_id = mlflow.create_experiment(experiment_name)\n",
    "else:\n",
    "    # Si ya existe, obtenemos su experiment_id\n",
    "    experiment_id = experiment.experiment_id\n",
    "     "
   ]
  },
  {
   "cell_type": "code",
   "execution_count": 0,
   "metadata": {
    "application/vnd.databricks.v1+cell": {
     "cellMetadata": {
      "byteLimit": 2048000,
      "rowLimit": 10000
     },
     "inputWidgets": {},
     "nuid": "db2f45b1-beea-4fa9-bfc9-5c6e9993cd38",
     "showTitle": false,
     "tableResultSettingsMap": {},
     "title": ""
    }
   },
   "outputs": [
    {
     "output_type": "stream",
     "name": "stdout",
     "output_type": "stream",
     "text": [
      "RMSE1: 56054.07140150193\n"
     ]
    },
    {
     "output_type": "stream",
     "name": "stderr",
     "output_type": "stream",
     "text": [
      "2024/11/17 20:00:20 WARNING mlflow.models.model: Model logged without a signature. Signatures will be required for upcoming model registry features as they validate model inputs and denote the expected schema of model outputs. Please visit https://www.mlflow.org/docs/2.15.1/models.html#set-signature-on-logged-model for instructions on setting a model signature on your logged model.\n"
     ]
    },
    {
     "output_type": "display_data",
     "data": {
      "application/vnd.jupyter.widget-view+json": {
       "model_id": "f0a5084250134c03ac5f695f51a5e3c9",
       "version_major": 2,
       "version_minor": 0
      },
      "text/plain": [
       "Uploading artifacts:   0%|          | 0/9 [00:00<?, ?it/s]"
      ]
     },
     "metadata": {},
     "output_type": "display_data"
    },
    {
     "output_type": "stream",
     "name": "stderr",
     "output_type": "stream",
     "text": [
      "2024/11/17 20:00:21 WARNING mlflow.models.model: Input example should be provided to infer model signature if the model signature is not provided when logging the model.\n2024/11/17 20:00:21 INFO mlflow.tracking._tracking_service.client: 🏃 View run unleashed-squid-605 at: https://community.cloud.databricks.com/ml/experiments/626679721578360/runs/fb0202073f4a47a9aaae32117108d0f8.\n2024/11/17 20:00:21 INFO mlflow.tracking._tracking_service.client: 🧪 View experiment at: https://community.cloud.databricks.com/ml/experiments/626679721578360.\n"
     ]
    },
    {
     "output_type": "stream",
     "name": "stdout",
     "output_type": "stream",
     "text": [
      "rmse: 56054.07\n"
     ]
    }
   ],
   "source": [
    "# Aquí se ejecuta MLflow sin especificar un nombre o id del experimento.\n",
    "with mlflow.start_run(experiment_id=experiment_id):\n",
    "    # Definir los parámetros del modelo\n",
    "    model1 = CatBoostRegressor(\n",
    "      depth=4,\n",
    "      iterations=230,\n",
    "      l2_leaf_reg=2.8,\n",
    "      learning_rate=0.08,\n",
    "      cat_features=cat_features, \n",
    "      verbose=0  # Suprime la salida del entrenamiento; ajusta según tus necesidades\n",
    "      )\n",
    "\n",
    "    # Entrenar el modelo\n",
    "    model1.fit(Xr_train, yr_train)\n",
    "    # Predecir en el conjunto de prueba\n",
    "    yr_pred1 = model1.predict(Xr_test)\n",
    "    rmse1 = np.sqrt(mean_squared_error(yr_test, yr_pred1))\n",
    "    print(f'RMSE1: {rmse1}')\n",
    "\n",
    "    depth = 4  # Asegúrate de definirlo correctamente\n",
    "    iterations = 230\n",
    "    l2_leaf_reg = 2.8\n",
    "    learning_rate = 0.08\n",
    "    verbose=0\n",
    "  \n",
    "    # Registrar los parámetros\n",
    "    mlflow.log_param(\"depth\", depth)\n",
    "    mlflow.log_param(\"iterations\", iterations)\n",
    "    mlflow.log_param(\"l2_leaf_reg\", l2_leaf_reg)\n",
    "    mlflow.log_param(\"learning_rate\", learning_rate)\n",
    "    mlflow.log_param(\"verbose\", verbose)\n",
    "    \n",
    "  \n",
    "    # Registrar el modelo\n",
    "    mlflow.catboost.log_model(model1, \"CatBoost-model1\")\n",
    "  \n",
    "    # Registrar la métrica\n",
    "    mlflow.log_metric(\"rmse\", rmse1)\n",
    "    print(f'rmse: {rmse1:.2f}')"
   ]
  },
  {
   "cell_type": "code",
   "execution_count": 0,
   "metadata": {
    "application/vnd.databricks.v1+cell": {
     "cellMetadata": {
      "byteLimit": 2048000,
      "rowLimit": 10000
     },
     "inputWidgets": {},
     "nuid": "6289e23e-69e1-45a1-8a6f-5917bc1df685",
     "showTitle": false,
     "tableResultSettingsMap": {},
     "title": ""
    }
   },
   "outputs": [
    {
     "output_type": "stream",
     "name": "stdout",
     "output_type": "stream",
     "text": [
      "RMSE1: 56171.43091226378\n"
     ]
    },
    {
     "output_type": "stream",
     "name": "stderr",
     "output_type": "stream",
     "text": [
      "2024/11/17 20:00:56 WARNING mlflow.models.model: Model logged without a signature. Signatures will be required for upcoming model registry features as they validate model inputs and denote the expected schema of model outputs. Please visit https://www.mlflow.org/docs/2.15.1/models.html#set-signature-on-logged-model for instructions on setting a model signature on your logged model.\n"
     ]
    },
    {
     "output_type": "display_data",
     "data": {
      "application/vnd.jupyter.widget-view+json": {
       "model_id": "fc55c38bf55e496cb8aebdccce5025fe",
       "version_major": 2,
       "version_minor": 0
      },
      "text/plain": [
       "Uploading artifacts:   0%|          | 0/9 [00:00<?, ?it/s]"
      ]
     },
     "metadata": {},
     "output_type": "display_data"
    },
    {
     "output_type": "stream",
     "name": "stderr",
     "output_type": "stream",
     "text": [
      "2024/11/17 20:00:58 WARNING mlflow.models.model: Input example should be provided to infer model signature if the model signature is not provided when logging the model.\n2024/11/17 20:00:58 INFO mlflow.tracking._tracking_service.client: 🏃 View run bright-bear-962 at: https://community.cloud.databricks.com/ml/experiments/626679721578360/runs/2151088b3d2e4a4593137ebd144f1d8b.\n2024/11/17 20:00:58 INFO mlflow.tracking._tracking_service.client: 🧪 View experiment at: https://community.cloud.databricks.com/ml/experiments/626679721578360.\n"
     ]
    },
    {
     "output_type": "stream",
     "name": "stdout",
     "output_type": "stream",
     "text": [
      "rmse: 56171.43\n"
     ]
    }
   ],
   "source": [
    "# Aquí se ejecuta MLflow sin especificar un nombre o id del experimento.\n",
    "with mlflow.start_run(experiment_id=experiment_id):\n",
    "    # Definir los parámetros del modelo\n",
    "    model2 = CatBoostRegressor(\n",
    "      depth=6,\n",
    "      iterations=443,\n",
    "      l2_leaf_reg=1.4,\n",
    "      learning_rate=0.05,\n",
    "      cat_features=cat_features, \n",
    "      verbose=0  # Suprime la salida del entrenamiento; ajusta según tus necesidades\n",
    "      )\n",
    "\n",
    "    # Entrenar el modelo\n",
    "    model2.fit(Xr_train, yr_train)\n",
    "    # Predecir en el conjunto de prueba\n",
    "    yr_pred2 = model2.predict(Xr_test)\n",
    "    rmse2 = np.sqrt(mean_squared_error(yr_test, yr_pred2))\n",
    "    print(f'RMSE1: {rmse2}')\n",
    "\n",
    "    depth = 6  # Asegúrate de definirlo correctamente\n",
    "    iterations = 443\n",
    "    l2_leaf_reg = 1.4\n",
    "    learning_rate = 0.04\n",
    "    verbose=0\n",
    "  \n",
    "    # Registrar los parámetros\n",
    "    mlflow.log_param(\"depth\", depth)\n",
    "    mlflow.log_param(\"iterations\", iterations)\n",
    "    mlflow.log_param(\"l2_leaf_reg\", l2_leaf_reg)\n",
    "    mlflow.log_param(\"learning_rate\", learning_rate)\n",
    "    mlflow.log_param(\"verbose\", verbose)\n",
    "    \n",
    "  \n",
    "    # Registrar el modelo\n",
    "    mlflow.catboost.log_model(model2, \"CatBoost-model2\")\n",
    "  \n",
    "    # Registrar la métrica\n",
    "    mlflow.log_metric(\"rmse\", rmse2)\n",
    "    print(f'rmse: {rmse2:.2f}')"
   ]
  },
  {
   "cell_type": "code",
   "execution_count": 0,
   "metadata": {
    "application/vnd.databricks.v1+cell": {
     "cellMetadata": {
      "byteLimit": 2048000,
      "rowLimit": 10000
     },
     "inputWidgets": {},
     "nuid": "f99b6b64-b926-4b40-b53b-68a9835a9eeb",
     "showTitle": false,
     "tableResultSettingsMap": {},
     "title": ""
    }
   },
   "outputs": [
    {
     "output_type": "stream",
     "name": "stdout",
     "output_type": "stream",
     "text": [
      "RMSE1: 56105.253999338245\n"
     ]
    },
    {
     "output_type": "stream",
     "name": "stderr",
     "output_type": "stream",
     "text": [
      "2024/11/17 20:01:37 WARNING mlflow.models.model: Model logged without a signature. Signatures will be required for upcoming model registry features as they validate model inputs and denote the expected schema of model outputs. Please visit https://www.mlflow.org/docs/2.15.1/models.html#set-signature-on-logged-model for instructions on setting a model signature on your logged model.\n"
     ]
    },
    {
     "output_type": "display_data",
     "data": {
      "application/vnd.jupyter.widget-view+json": {
       "model_id": "3f4b394e3b444c3192728d0222ecbefb",
       "version_major": 2,
       "version_minor": 0
      },
      "text/plain": [
       "Uploading artifacts:   0%|          | 0/9 [00:00<?, ?it/s]"
      ]
     },
     "metadata": {},
     "output_type": "display_data"
    },
    {
     "output_type": "stream",
     "name": "stderr",
     "output_type": "stream",
     "text": [
      "2024/11/17 20:01:38 WARNING mlflow.models.model: Input example should be provided to infer model signature if the model signature is not provided when logging the model.\n2024/11/17 20:01:38 INFO mlflow.tracking._tracking_service.client: 🏃 View run awesome-pig-683 at: https://community.cloud.databricks.com/ml/experiments/626679721578360/runs/ae927c27175d460c86d404a282871e27.\n2024/11/17 20:01:38 INFO mlflow.tracking._tracking_service.client: 🧪 View experiment at: https://community.cloud.databricks.com/ml/experiments/626679721578360.\n"
     ]
    },
    {
     "output_type": "stream",
     "name": "stdout",
     "output_type": "stream",
     "text": [
      "rmse: 56105.25\n"
     ]
    }
   ],
   "source": [
    "# Aquí se ejecuta MLflow sin especificar un nombre o id del experimento.\n",
    "with mlflow.start_run(experiment_id=experiment_id):\n",
    "    # Definir los parámetros del modelo\n",
    "    model3 = CatBoostRegressor(\n",
    "      depth=3,\n",
    "      iterations=150,\n",
    "      l2_leaf_reg=3,\n",
    "      learning_rate=0.25,\n",
    "      cat_features=cat_features, \n",
    "      verbose=0  # Suprime la salida del entrenamiento; ajusta según tus necesidades\n",
    "      )\n",
    "\n",
    "    # Entrenar el modelo\n",
    "    model3.fit(Xr_train, yr_train)\n",
    "    # Predecir en el conjunto de prueba\n",
    "    yr_pred3 = model3.predict(Xr_test)\n",
    "    rmse3 = np.sqrt(mean_squared_error(yr_test, yr_pred3))\n",
    "    print(f'RMSE1: {rmse3}')\n",
    "\n",
    "    depth = 3  # Asegúrate de definirlo correctamente\n",
    "    iterations = 150\n",
    "    l2_leaf_reg = 3\n",
    "    learning_rate = 0.25\n",
    "    verbose=0\n",
    "  \n",
    "    # Registrar los parámetros\n",
    "    mlflow.log_param(\"depth\", depth)\n",
    "    mlflow.log_param(\"iterations\", iterations)\n",
    "    mlflow.log_param(\"l2_leaf_reg\", l2_leaf_reg)\n",
    "    mlflow.log_param(\"learning_rate\", learning_rate)\n",
    "    mlflow.log_param(\"verbose\", verbose)\n",
    "    \n",
    "  \n",
    "    # Registrar el modelo\n",
    "    mlflow.catboost.log_model(model3, \"CatBoost-model2\")\n",
    "  \n",
    "    # Registrar la métrica\n",
    "    mlflow.log_metric(\"rmse\", rmse3)\n",
    "    print(f'rmse: {rmse3:.2f}')"
   ]
  },
  {
   "cell_type": "code",
   "execution_count": 0,
   "metadata": {
    "application/vnd.databricks.v1+cell": {
     "cellMetadata": {
      "byteLimit": 2048000,
      "rowLimit": 10000
     },
     "inputWidgets": {},
     "nuid": "f2a7947a-82b4-48bd-9c2c-e2f3e12cf69d",
     "showTitle": false,
     "tableResultSettingsMap": {},
     "title": ""
    }
   },
   "outputs": [],
   "source": [
    "from catboost import CatBoostRegressor\n",
    "from sklearn.metrics import mean_squared_error\n",
    "\n",
    "\n",
    "# Inicializar el modelo con los parámetros dados\n",
    "model1 = CatBoostRegressor(\n",
    "    depth=4,\n",
    "    iterations=230,\n",
    "    l2_leaf_reg=2.8,\n",
    "    learning_rate=0.08,\n",
    "    cat_features=cat_features, \n",
    "    verbose=0  # Suprime la salida del entrenamiento; ajusta según tus necesidades\n",
    ")\n",
    "\n",
    "# Entrenar el modelo\n",
    "model1.fit(Xr_train, yr_train)\n",
    "\n",
    "# Predecir en el conjunto de prueba\n",
    "yr_pred1 = model1.predict(Xr_test)\n",
    "\n"
   ]
  },
  {
   "cell_type": "code",
   "execution_count": 0,
   "metadata": {
    "application/vnd.databricks.v1+cell": {
     "cellMetadata": {
      "byteLimit": 2048000,
      "rowLimit": 10000
     },
     "inputWidgets": {},
     "nuid": "c35afa38-eefa-480e-bf58-fe063588b0ba",
     "showTitle": false,
     "tableResultSettingsMap": {},
     "title": ""
    }
   },
   "outputs": [
    {
     "output_type": "stream",
     "name": "stdout",
     "output_type": "stream",
     "text": [
      "RMSE1: 56054.07140150193\n"
     ]
    }
   ],
   "source": [
    "rmse1 = np.sqrt(mean_squared_error(yr_test, yr_pred1))\n",
    "print(f'RMSE1: {rmse1}')"
   ]
  },
  {
   "cell_type": "code",
   "execution_count": 0,
   "metadata": {
    "application/vnd.databricks.v1+cell": {
     "cellMetadata": {
      "byteLimit": 2048000,
      "rowLimit": 10000
     },
     "inputWidgets": {},
     "nuid": "ca1004ed-1535-44a2-93cc-5257d7516575",
     "showTitle": false,
     "tableResultSettingsMap": {},
     "title": ""
    }
   },
   "outputs": [],
   "source": [
    "# Inicializar el modelo con los parámetros dados\n",
    "model2 = CatBoostRegressor(\n",
    "    depth=6,\n",
    "    iterations=443,\n",
    "    l2_leaf_reg=1.4,\n",
    "    learning_rate=0.05,\n",
    "    cat_features=cat_features, \n",
    "\n",
    "    verbose=0  # Suprime la salida del entrenamiento; ajusta según tus necesidades\n",
    ")\n",
    "\n",
    "# Entrenar el modelo\n",
    "model2.fit(Xr_train, yr_train)\n",
    "\n",
    "# Predecir en el conjunto de prueba\n",
    "yr_pred2 = model2.predict(Xr_test)\n"
   ]
  },
  {
   "cell_type": "code",
   "execution_count": 0,
   "metadata": {
    "application/vnd.databricks.v1+cell": {
     "cellMetadata": {
      "byteLimit": 2048000,
      "rowLimit": 10000
     },
     "inputWidgets": {},
     "nuid": "d6d9e486-ce32-4107-adb4-ef61b6fe1347",
     "showTitle": false,
     "tableResultSettingsMap": {},
     "title": ""
    }
   },
   "outputs": [
    {
     "output_type": "stream",
     "name": "stdout",
     "output_type": "stream",
     "text": [
      "RMSE_2: 56171.43091226378\n"
     ]
    }
   ],
   "source": [
    "rmse2 = np.sqrt(mean_squared_error(yr_test, yr_pred2))\n",
    "print(f'RMSE_2: {rmse2}')"
   ]
  },
  {
   "cell_type": "code",
   "execution_count": 0,
   "metadata": {
    "application/vnd.databricks.v1+cell": {
     "cellMetadata": {
      "byteLimit": 2048000,
      "rowLimit": 10000
     },
     "inputWidgets": {},
     "nuid": "ff14906e-0183-49c6-a69f-050b37c390f6",
     "showTitle": false,
     "tableResultSettingsMap": {},
     "title": ""
    }
   },
   "outputs": [],
   "source": [
    "# Inicializar el modelo con los parámetros dados\n",
    "model3 = CatBoostRegressor(\n",
    "    depth=3,\n",
    "    iterations=150,\n",
    "    l2_leaf_reg=3,\n",
    "    learning_rate=0.25,\n",
    "    cat_features=cat_features, \n",
    "    verbose=0  # Suprime la salida del entrenamiento; ajusta según tus necesidades\n",
    ")\n",
    "\n",
    "# Entrenar el modelo\n",
    "model3.fit(Xr_train, yr_train)\n",
    "\n",
    "# Predecir en el conjunto de prueba\n",
    "yr_pred3 = model3.predict(Xr_test)"
   ]
  },
  {
   "cell_type": "code",
   "execution_count": 0,
   "metadata": {
    "application/vnd.databricks.v1+cell": {
     "cellMetadata": {
      "byteLimit": 2048000,
      "rowLimit": 10000
     },
     "inputWidgets": {},
     "nuid": "b1a4af92-9e6a-40fa-b1c3-1c0156b1be52",
     "showTitle": false,
     "tableResultSettingsMap": {},
     "title": ""
    }
   },
   "outputs": [
    {
     "output_type": "stream",
     "name": "stdout",
     "output_type": "stream",
     "text": [
      "RMSE_3: 56105.253999338245\n"
     ]
    }
   ],
   "source": [
    "rmse3 = np.sqrt(mean_squared_error(yr_test, yr_pred3))\n",
    "print(f'RMSE_3: {rmse3}')"
   ]
  },
  {
   "cell_type": "code",
   "execution_count": 0,
   "metadata": {
    "application/vnd.databricks.v1+cell": {
     "cellMetadata": {
      "byteLimit": 2048000,
      "rowLimit": 10000
     },
     "inputWidgets": {},
     "nuid": "cf207a7d-8e09-4b37-a053-31f08cb5bbc7",
     "showTitle": false,
     "tableResultSettingsMap": {},
     "title": ""
    }
   },
   "outputs": [],
   "source": [
    "\n",
    "#Save the best model\n",
    "#joblib.dump(best_cbr_model, 'best_cbr_reg_model.pkl')  "
   ]
  }
 ],
 "metadata": {
  "application/vnd.databricks.v1+notebook": {
   "dashboards": [],
   "environmentMetadata": null,
   "language": "python",
   "notebookMetadata": {
    "pythonIndentUnit": 2
   },
   "notebookName": "ModeloFinal_CatBoostRegressor_MLFlow",
   "widgets": {}
  },
  "kernelspec": {
   "display_name": "MIAD_DESP",
   "language": "python",
   "name": "python3"
  },
  "language_info": {
   "codemirror_mode": {
    "name": "ipython",
    "version": 3
   },
   "file_extension": ".py",
   "mimetype": "text/x-python",
   "name": "python",
   "nbconvert_exporter": "python",
   "pygments_lexer": "ipython3",
   "version": "3.12.7"
  }
 },
 "nbformat": 4,
 "nbformat_minor": 0
}
