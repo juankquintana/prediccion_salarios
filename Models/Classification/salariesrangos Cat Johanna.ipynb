{
 "cells": [
  {
   "cell_type": "code",
   "execution_count": 12,
   "metadata": {},
   "outputs": [
    {
     "name": "stdout",
     "output_type": "stream",
     "text": [
      "Requirement already satisfied: catboost in c:\\users\\user\\anaconda3\\lib\\site-packages (1.2.7)Note: you may need to restart the kernel to use updated packages.\n",
      "\n",
      "Requirement already satisfied: graphviz in c:\\users\\user\\anaconda3\\lib\\site-packages (from catboost) (0.20.3)\n",
      "Requirement already satisfied: matplotlib in c:\\users\\user\\anaconda3\\lib\\site-packages (from catboost) (3.7.2)\n",
      "Requirement already satisfied: numpy<2.0,>=1.16.0 in c:\\users\\user\\anaconda3\\lib\\site-packages (from catboost) (1.24.3)\n",
      "Requirement already satisfied: pandas>=0.24 in c:\\users\\user\\anaconda3\\lib\\site-packages (from catboost) (2.1.4)\n",
      "Requirement already satisfied: scipy in c:\\users\\user\\anaconda3\\lib\\site-packages (from catboost) (1.11.1)\n",
      "Requirement already satisfied: plotly in c:\\users\\user\\anaconda3\\lib\\site-packages (from catboost) (5.9.0)\n",
      "Requirement already satisfied: six in c:\\users\\user\\anaconda3\\lib\\site-packages (from catboost) (1.16.0)\n",
      "Requirement already satisfied: python-dateutil>=2.8.2 in c:\\users\\user\\anaconda3\\lib\\site-packages (from pandas>=0.24->catboost) (2.8.2)\n",
      "Requirement already satisfied: pytz>=2020.1 in c:\\users\\user\\anaconda3\\lib\\site-packages (from pandas>=0.24->catboost) (2023.3.post1)\n",
      "Requirement already satisfied: tzdata>=2022.1 in c:\\users\\user\\anaconda3\\lib\\site-packages (from pandas>=0.24->catboost) (2023.3)\n",
      "Requirement already satisfied: contourpy>=1.0.1 in c:\\users\\user\\anaconda3\\lib\\site-packages (from matplotlib->catboost) (1.0.5)\n",
      "Requirement already satisfied: cycler>=0.10 in c:\\users\\user\\anaconda3\\lib\\site-packages (from matplotlib->catboost) (0.11.0)\n",
      "Requirement already satisfied: fonttools>=4.22.0 in c:\\users\\user\\anaconda3\\lib\\site-packages (from matplotlib->catboost) (4.25.0)\n",
      "Requirement already satisfied: kiwisolver>=1.0.1 in c:\\users\\user\\anaconda3\\lib\\site-packages (from matplotlib->catboost) (1.4.4)\n",
      "Requirement already satisfied: packaging>=20.0 in c:\\users\\user\\anaconda3\\lib\\site-packages (from matplotlib->catboost) (23.1)\n",
      "Requirement already satisfied: pillow>=6.2.0 in c:\\users\\user\\anaconda3\\lib\\site-packages (from matplotlib->catboost) (10.0.1)\n",
      "Requirement already satisfied: pyparsing<3.1,>=2.3.1 in c:\\users\\user\\anaconda3\\lib\\site-packages (from matplotlib->catboost) (3.0.9)\n",
      "Requirement already satisfied: tenacity>=6.2.0 in c:\\users\\user\\anaconda3\\lib\\site-packages (from plotly->catboost) (8.2.2)\n"
     ]
    },
    {
     "name": "stderr",
     "output_type": "stream",
     "text": [
      "\n",
      "[notice] A new release of pip is available: 24.0 -> 24.3.1\n",
      "[notice] To update, run: python.exe -m pip install --upgrade pip\n"
     ]
    }
   ],
   "source": [
    "%pip install catboost"
   ]
  },
  {
   "cell_type": "code",
   "execution_count": 13,
   "metadata": {},
   "outputs": [],
   "source": [
    "import pandas as pd\n",
    "import numpy as np\n",
    "import seaborn as sns\n",
    "import matplotlib.pyplot as plt\n",
    "\n",
    "from catboost import CatBoostClassifier, Pool\n",
    "\n",
    "from sklearn.model_selection import train_test_split\n",
    "from sklearn.metrics import accuracy_score\n",
    "\n",
    "\n",
    "from sklearn.preprocessing import LabelEncoder"
   ]
  },
  {
   "cell_type": "code",
   "execution_count": 14,
   "metadata": {},
   "outputs": [
    {
     "data": {
      "text/html": [
       "<div>\n",
       "<style scoped>\n",
       "    .dataframe tbody tr th:only-of-type {\n",
       "        vertical-align: middle;\n",
       "    }\n",
       "\n",
       "    .dataframe tbody tr th {\n",
       "        vertical-align: top;\n",
       "    }\n",
       "\n",
       "    .dataframe thead th {\n",
       "        text-align: right;\n",
       "    }\n",
       "</style>\n",
       "<table border=\"1\" class=\"dataframe\">\n",
       "  <thead>\n",
       "    <tr style=\"text-align: right;\">\n",
       "      <th></th>\n",
       "      <th>experience_level</th>\n",
       "      <th>employment_type</th>\n",
       "      <th>job_title</th>\n",
       "      <th>salary_in_usd</th>\n",
       "      <th>employee_residence</th>\n",
       "      <th>remote_ratio</th>\n",
       "      <th>company_location</th>\n",
       "      <th>company_size</th>\n",
       "    </tr>\n",
       "  </thead>\n",
       "  <tbody>\n",
       "    <tr>\n",
       "      <th>0</th>\n",
       "      <td>MI</td>\n",
       "      <td>FT</td>\n",
       "      <td>Data Scientist</td>\n",
       "      <td>111740</td>\n",
       "      <td>North America</td>\n",
       "      <td>0</td>\n",
       "      <td>North America</td>\n",
       "      <td>M</td>\n",
       "    </tr>\n",
       "    <tr>\n",
       "      <th>1</th>\n",
       "      <td>SE</td>\n",
       "      <td>FT</td>\n",
       "      <td>Data Scientist</td>\n",
       "      <td>115000</td>\n",
       "      <td>North America</td>\n",
       "      <td>100</td>\n",
       "      <td>North America</td>\n",
       "      <td>M</td>\n",
       "    </tr>\n",
       "    <tr>\n",
       "      <th>2</th>\n",
       "      <td>SE</td>\n",
       "      <td>FT</td>\n",
       "      <td>Machine Learning Engineer</td>\n",
       "      <td>112000</td>\n",
       "      <td>North America</td>\n",
       "      <td>0</td>\n",
       "      <td>North America</td>\n",
       "      <td>M</td>\n",
       "    </tr>\n",
       "  </tbody>\n",
       "</table>\n",
       "</div>"
      ],
      "text/plain": [
       "  experience_level employment_type                  job_title  salary_in_usd  \\\n",
       "0               MI              FT             Data Scientist         111740   \n",
       "1               SE              FT             Data Scientist         115000   \n",
       "2               SE              FT  Machine Learning Engineer         112000   \n",
       "\n",
       "  employee_residence  remote_ratio company_location company_size  \n",
       "0      North America             0    North America            M  \n",
       "1      North America           100    North America            M  \n",
       "2      North America             0    North America            M  "
      ]
     },
     "execution_count": 14,
     "metadata": {},
     "output_type": "execute_result"
    }
   ],
   "source": [
    "data = data=pd.read_csv('../../Data/data_top10.csv') \n",
    "data.head(3)"
   ]
  },
  {
   "cell_type": "code",
   "execution_count": 15,
   "metadata": {},
   "outputs": [],
   "source": [
    "# función para clasificar rangos de salarios\n",
    "def classify_salary(salary):\n",
    "    if salary < 75000:\n",
    "        return 'Bajo'\n",
    "    elif 75000 <= salary < 120000:\n",
    "        return 'Medio_Bajo'\n",
    "    elif 120000 <= salary < 180000:\n",
    "        return 'Medio_Alto'\n",
    "    else:\n",
    "        return 'Alto'"
   ]
  },
  {
   "cell_type": "code",
   "execution_count": 16,
   "metadata": {},
   "outputs": [
    {
     "data": {
      "text/html": [
       "<div>\n",
       "<style scoped>\n",
       "    .dataframe tbody tr th:only-of-type {\n",
       "        vertical-align: middle;\n",
       "    }\n",
       "\n",
       "    .dataframe tbody tr th {\n",
       "        vertical-align: top;\n",
       "    }\n",
       "\n",
       "    .dataframe thead th {\n",
       "        text-align: right;\n",
       "    }\n",
       "</style>\n",
       "<table border=\"1\" class=\"dataframe\">\n",
       "  <thead>\n",
       "    <tr style=\"text-align: right;\">\n",
       "      <th></th>\n",
       "      <th>experience_level</th>\n",
       "      <th>employment_type</th>\n",
       "      <th>job_title</th>\n",
       "      <th>salary_in_usd</th>\n",
       "      <th>employee_residence</th>\n",
       "      <th>remote_ratio</th>\n",
       "      <th>company_location</th>\n",
       "      <th>company_size</th>\n",
       "      <th>salary_class</th>\n",
       "    </tr>\n",
       "  </thead>\n",
       "  <tbody>\n",
       "    <tr>\n",
       "      <th>0</th>\n",
       "      <td>MI</td>\n",
       "      <td>FT</td>\n",
       "      <td>Data Scientist</td>\n",
       "      <td>111740</td>\n",
       "      <td>North America</td>\n",
       "      <td>0</td>\n",
       "      <td>North America</td>\n",
       "      <td>M</td>\n",
       "      <td>Medio_Bajo</td>\n",
       "    </tr>\n",
       "    <tr>\n",
       "      <th>1</th>\n",
       "      <td>SE</td>\n",
       "      <td>FT</td>\n",
       "      <td>Data Scientist</td>\n",
       "      <td>115000</td>\n",
       "      <td>North America</td>\n",
       "      <td>100</td>\n",
       "      <td>North America</td>\n",
       "      <td>M</td>\n",
       "      <td>Medio_Bajo</td>\n",
       "    </tr>\n",
       "    <tr>\n",
       "      <th>2</th>\n",
       "      <td>SE</td>\n",
       "      <td>FT</td>\n",
       "      <td>Machine Learning Engineer</td>\n",
       "      <td>112000</td>\n",
       "      <td>North America</td>\n",
       "      <td>0</td>\n",
       "      <td>North America</td>\n",
       "      <td>M</td>\n",
       "      <td>Medio_Bajo</td>\n",
       "    </tr>\n",
       "  </tbody>\n",
       "</table>\n",
       "</div>"
      ],
      "text/plain": [
       "  experience_level employment_type                  job_title  salary_in_usd  \\\n",
       "0               MI              FT             Data Scientist         111740   \n",
       "1               SE              FT             Data Scientist         115000   \n",
       "2               SE              FT  Machine Learning Engineer         112000   \n",
       "\n",
       "  employee_residence  remote_ratio company_location company_size salary_class  \n",
       "0      North America             0    North America            M   Medio_Bajo  \n",
       "1      North America           100    North America            M   Medio_Bajo  \n",
       "2      North America             0    North America            M   Medio_Bajo  "
      ]
     },
     "execution_count": 16,
     "metadata": {},
     "output_type": "execute_result"
    }
   ],
   "source": [
    "# Mapeo Opcion 1 salary_class\n",
    "data['salary_class'] = data['salary_in_usd'].apply(classify_salary)\n",
    "data.head(3)"
   ]
  },
  {
   "cell_type": "code",
   "execution_count": 17,
   "metadata": {},
   "outputs": [
    {
     "name": "stdout",
     "output_type": "stream",
     "text": [
      "<class 'pandas.core.frame.DataFrame'>\n",
      "RangeIndex: 11193 entries, 0 to 11192\n",
      "Data columns (total 8 columns):\n",
      " #   Column              Non-Null Count  Dtype \n",
      "---  ------              --------------  ----- \n",
      " 0   experience_level    11193 non-null  object\n",
      " 1   employment_type     11193 non-null  object\n",
      " 2   job_title           11193 non-null  object\n",
      " 3   employee_residence  11193 non-null  object\n",
      " 4   remote_ratio        11193 non-null  int64 \n",
      " 5   company_location    11193 non-null  object\n",
      " 6   company_size        11193 non-null  object\n",
      " 7   salary_class        11193 non-null  object\n",
      "dtypes: int64(1), object(7)\n",
      "memory usage: 699.7+ KB\n"
     ]
    }
   ],
   "source": [
    "data = data.drop('salary_in_usd', axis=1)\n",
    "data.info()"
   ]
  },
  {
   "cell_type": "markdown",
   "metadata": {},
   "source": [
    "Ventajas de CatBoost con Variables Categóricas\n",
    "Manejo nativo: CatBoost utiliza un enfoque especial para trabajar con variables categóricas, lo que le permite tratar estas variables sin la necesidad de transformarlas manualmente.\n",
    "\n",
    "Estrategia de codificación: CatBoost implementa técnicas como el target encoding (codificación de objetivo) y otras estrategias que permiten manejar las categorías de manera efectiva.\n",
    "\n",
    "Facilidad de uso: Solo necesitas especificar los índices o nombres de las columnas categóricas en el parámetro cat_features al crear tu modelo, como se mostró en el ejemplo anterior."
   ]
  },
  {
   "cell_type": "code",
   "execution_count": 18,
   "metadata": {},
   "outputs": [],
   "source": [
    "# Índices de las columnas categóricas\n",
    "indices_var_cat = [0, 1, 2, 3, 5, 6]  "
   ]
  },
  {
   "cell_type": "code",
   "execution_count": 19,
   "metadata": {},
   "outputs": [],
   "source": [
    "X = data.drop('salary_class', axis=1)\n",
    "Y = data['salary_class']"
   ]
  },
  {
   "cell_type": "code",
   "execution_count": null,
   "metadata": {},
   "outputs": [],
   "source": []
  },
  {
   "cell_type": "code",
   "execution_count": 20,
   "metadata": {},
   "outputs": [],
   "source": [
    "X_train, X_test, y_train, y_test = train_test_split(X, Y, test_size=0.2, random_state=42)"
   ]
  },
  {
   "cell_type": "code",
   "execution_count": 30,
   "metadata": {},
   "outputs": [
    {
     "name": "stdout",
     "output_type": "stream",
     "text": [
      "0:\tlearn: 1.3834172\ttotal: 54.2ms\tremaining: 21.6s\n",
      "10:\tlearn: 1.3535883\ttotal: 780ms\tremaining: 27.6s\n",
      "20:\tlearn: 1.3256830\ttotal: 1.51s\tremaining: 27.2s\n",
      "30:\tlearn: 1.3028472\ttotal: 2.27s\tremaining: 27s\n",
      "40:\tlearn: 1.2826598\ttotal: 3.05s\tremaining: 26.7s\n",
      "50:\tlearn: 1.2655687\ttotal: 3.78s\tremaining: 25.9s\n",
      "60:\tlearn: 1.2506723\ttotal: 4.62s\tremaining: 25.7s\n",
      "70:\tlearn: 1.2379831\ttotal: 5.31s\tremaining: 24.6s\n",
      "80:\tlearn: 1.2269152\ttotal: 6.08s\tremaining: 23.9s\n",
      "90:\tlearn: 1.2176269\ttotal: 6.78s\tremaining: 23s\n",
      "100:\tlearn: 1.2095229\ttotal: 7.51s\tremaining: 22.2s\n",
      "110:\tlearn: 1.2026335\ttotal: 8.28s\tremaining: 21.6s\n",
      "120:\tlearn: 1.1958142\ttotal: 9.05s\tremaining: 20.9s\n",
      "130:\tlearn: 1.1898059\ttotal: 9.79s\tremaining: 20.1s\n",
      "140:\tlearn: 1.1846330\ttotal: 10.5s\tremaining: 19.3s\n",
      "150:\tlearn: 1.1804026\ttotal: 11.2s\tremaining: 18.5s\n",
      "160:\tlearn: 1.1766931\ttotal: 11.9s\tremaining: 17.7s\n",
      "170:\tlearn: 1.1732703\ttotal: 12.9s\tremaining: 17.2s\n",
      "180:\tlearn: 1.1701366\ttotal: 13.6s\tremaining: 16.5s\n",
      "190:\tlearn: 1.1673948\ttotal: 14.3s\tremaining: 15.7s\n",
      "200:\tlearn: 1.1652058\ttotal: 15.1s\tremaining: 14.9s\n",
      "210:\tlearn: 1.1631489\ttotal: 15.7s\tremaining: 14.1s\n",
      "220:\tlearn: 1.1612896\ttotal: 16.5s\tremaining: 13.4s\n",
      "230:\tlearn: 1.1593100\ttotal: 17.2s\tremaining: 12.6s\n",
      "240:\tlearn: 1.1579076\ttotal: 18s\tremaining: 11.8s\n",
      "250:\tlearn: 1.1565795\ttotal: 18.7s\tremaining: 11.1s\n",
      "260:\tlearn: 1.1553134\ttotal: 19.4s\tremaining: 10.3s\n",
      "270:\tlearn: 1.1542939\ttotal: 20.1s\tremaining: 9.57s\n",
      "280:\tlearn: 1.1532177\ttotal: 20.9s\tremaining: 8.86s\n",
      "290:\tlearn: 1.1522399\ttotal: 21.6s\tremaining: 8.1s\n",
      "300:\tlearn: 1.1512281\ttotal: 22.4s\tremaining: 7.36s\n",
      "310:\tlearn: 1.1503454\ttotal: 23.2s\tremaining: 6.65s\n",
      "320:\tlearn: 1.1494094\ttotal: 24s\tremaining: 5.91s\n",
      "330:\tlearn: 1.1487066\ttotal: 24.7s\tremaining: 5.15s\n",
      "340:\tlearn: 1.1479018\ttotal: 25.5s\tremaining: 4.4s\n",
      "350:\tlearn: 1.1472588\ttotal: 26.2s\tremaining: 3.66s\n",
      "360:\tlearn: 1.1466037\ttotal: 27s\tremaining: 2.91s\n",
      "370:\tlearn: 1.1460468\ttotal: 27.7s\tremaining: 2.17s\n",
      "380:\tlearn: 1.1455653\ttotal: 28.5s\tremaining: 1.42s\n",
      "390:\tlearn: 1.1450965\ttotal: 29.2s\tremaining: 671ms\n",
      "399:\tlearn: 1.1446450\ttotal: 29.8s\tremaining: 0us\n"
     ]
    },
    {
     "data": {
      "text/plain": [
       "<catboost.core.CatBoostClassifier at 0x2776ee76510>"
      ]
     },
     "execution_count": 30,
     "metadata": {},
     "output_type": "execute_result"
    }
   ],
   "source": [
    "modelo_CAT = CatBoostClassifier(iterations=400, learning_rate=0.01, depth=6, cat_features=indices_var_cat, verbose=10)\n",
    "\n",
    "modelo_CAT.fit(X_train, y_train)"
   ]
  },
  {
   "cell_type": "code",
   "execution_count": 31,
   "metadata": {},
   "outputs": [
    {
     "name": "stdout",
     "output_type": "stream",
     "text": [
      "0:\tlearn: 1.3834172\ttotal: 46ms\tremaining: 18.4s\n",
      "10:\tlearn: 1.3535883\ttotal: 863ms\tremaining: 30.5s\n",
      "20:\tlearn: 1.3256830\ttotal: 1.6s\tremaining: 29s\n",
      "30:\tlearn: 1.3028472\ttotal: 2.34s\tremaining: 27.8s\n",
      "40:\tlearn: 1.2826598\ttotal: 3.11s\tremaining: 27.2s\n",
      "50:\tlearn: 1.2655687\ttotal: 3.82s\tremaining: 26.1s\n",
      "60:\tlearn: 1.2506723\ttotal: 4.57s\tremaining: 25.4s\n",
      "70:\tlearn: 1.2379831\ttotal: 5.25s\tremaining: 24.3s\n",
      "80:\tlearn: 1.2269152\ttotal: 5.97s\tremaining: 23.5s\n",
      "90:\tlearn: 1.2176269\ttotal: 6.67s\tremaining: 22.6s\n",
      "100:\tlearn: 1.2095229\ttotal: 7.4s\tremaining: 21.9s\n",
      "110:\tlearn: 1.2026335\ttotal: 8.12s\tremaining: 21.1s\n",
      "120:\tlearn: 1.1958142\ttotal: 8.86s\tremaining: 20.4s\n",
      "130:\tlearn: 1.1898059\ttotal: 9.6s\tremaining: 19.7s\n",
      "140:\tlearn: 1.1846330\ttotal: 10.3s\tremaining: 19s\n",
      "150:\tlearn: 1.1804026\ttotal: 11s\tremaining: 18.2s\n",
      "160:\tlearn: 1.1766931\ttotal: 11.7s\tremaining: 17.4s\n",
      "170:\tlearn: 1.1732703\ttotal: 12.4s\tremaining: 16.7s\n",
      "180:\tlearn: 1.1701366\ttotal: 13.2s\tremaining: 16s\n",
      "190:\tlearn: 1.1673948\ttotal: 13.9s\tremaining: 15.2s\n",
      "200:\tlearn: 1.1652058\ttotal: 14.6s\tremaining: 14.5s\n",
      "210:\tlearn: 1.1631489\ttotal: 15.3s\tremaining: 13.7s\n",
      "220:\tlearn: 1.1612896\ttotal: 16.1s\tremaining: 13s\n",
      "230:\tlearn: 1.1593100\ttotal: 16.9s\tremaining: 12.4s\n",
      "240:\tlearn: 1.1579076\ttotal: 17.6s\tremaining: 11.6s\n",
      "250:\tlearn: 1.1565795\ttotal: 18.3s\tremaining: 10.9s\n",
      "260:\tlearn: 1.1553134\ttotal: 19s\tremaining: 10.1s\n",
      "270:\tlearn: 1.1542939\ttotal: 19.7s\tremaining: 9.4s\n",
      "280:\tlearn: 1.1532177\ttotal: 20.5s\tremaining: 8.66s\n",
      "290:\tlearn: 1.1522399\ttotal: 21.2s\tremaining: 7.93s\n",
      "300:\tlearn: 1.1512281\ttotal: 21.9s\tremaining: 7.2s\n",
      "310:\tlearn: 1.1503454\ttotal: 22.6s\tremaining: 6.47s\n",
      "320:\tlearn: 1.1494094\ttotal: 23.4s\tremaining: 5.75s\n",
      "330:\tlearn: 1.1487066\ttotal: 24s\tremaining: 5.01s\n",
      "340:\tlearn: 1.1479018\ttotal: 24.8s\tremaining: 4.29s\n",
      "350:\tlearn: 1.1472588\ttotal: 25.5s\tremaining: 3.56s\n",
      "360:\tlearn: 1.1466037\ttotal: 26.2s\tremaining: 2.83s\n",
      "370:\tlearn: 1.1460468\ttotal: 26.9s\tremaining: 2.1s\n",
      "380:\tlearn: 1.1455653\ttotal: 27.7s\tremaining: 1.38s\n",
      "390:\tlearn: 1.1450965\ttotal: 28.3s\tremaining: 653ms\n",
      "399:\tlearn: 1.1446450\ttotal: 29s\tremaining: 0us\n"
     ]
    },
    {
     "data": {
      "text/plain": [
       "<catboost.core.CatBoostClassifier at 0x2776ee76510>"
      ]
     },
     "execution_count": 31,
     "metadata": {},
     "output_type": "execute_result"
    }
   ],
   "source": [
    "modelo_CAT.fit(X_train, y_train)"
   ]
  },
  {
   "cell_type": "code",
   "execution_count": 32,
   "metadata": {},
   "outputs": [
    {
     "name": "stdout",
     "output_type": "stream",
     "text": [
      "Accuracy: 0.42\n"
     ]
    }
   ],
   "source": [
    "# Hacer predicciones y evaluar\n",
    "y_pred = modelo_CAT.predict(X_test)\n",
    "accuracy = accuracy_score(y_test, y_pred)\n",
    "print(f'Accuracy: {accuracy:.2f}')"
   ]
  },
  {
   "cell_type": "code",
   "execution_count": null,
   "metadata": {},
   "outputs": [],
   "source": []
  }
 ],
 "metadata": {
  "kernelspec": {
   "display_name": "base",
   "language": "python",
   "name": "python3"
  },
  "language_info": {
   "codemirror_mode": {
    "name": "ipython",
    "version": 3
   },
   "file_extension": ".py",
   "mimetype": "text/x-python",
   "name": "python",
   "nbconvert_exporter": "python",
   "pygments_lexer": "ipython3",
   "version": "3.11.5"
  }
 },
 "nbformat": 4,
 "nbformat_minor": 2
}
