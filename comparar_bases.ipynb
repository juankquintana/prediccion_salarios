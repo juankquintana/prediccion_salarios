{
 "cells": [
  {
   "cell_type": "code",
   "execution_count": 1,
   "metadata": {},
   "outputs": [],
   "source": [
    "import pandas as pd\n",
    "\n",
    "# Load the CSV files\n",
    "csv1 = pd.read_csv('salaries_151024.csv')\n",
    "csv2 = pd.read_csv('salaries_221024.csv.dvc')"
   ]
  },
  {
   "cell_type": "code",
   "execution_count": 4,
   "metadata": {},
   "outputs": [
    {
     "name": "stdout",
     "output_type": "stream",
     "text": [
      "Los archivos tienen las mismas columnas.\n",
      "Los archivos tienen diferente forma: (53672, 11) vs (55463, 11)\n"
     ]
    }
   ],
   "source": [
    "# Verificar si tienen las mismas columnas\n",
    "if csv1.columns.tolist() == csv2.columns.tolist():\n",
    "    print(\"Los archivos tienen las mismas columnas.\")\n",
    "else:\n",
    "    print(\"Los archivos tienen diferentes columnas.\")\n",
    "\n",
    "# Comparar la forma (número de filas y columnas)\n",
    "if csv1.shape == csv2.shape:\n",
    "    print(\"Los archivos tienen el mismo número de filas y columnas.\")\n",
    "else:\n",
    "    print(f\"Los archivos tienen diferente forma: {csv1.shape} vs {csv2.shape}\")\n"
   ]
  },
  {
   "cell_type": "code",
   "execution_count": 2,
   "metadata": {},
   "outputs": [],
   "source": [
    "# Check for duplicated rows in each DataFrame\n",
    "duplicates_csv1 = csv1.duplicated(keep=False)\n",
    "duplicates_csv2 = csv2.duplicated(keep=False)\n"
   ]
  },
  {
   "cell_type": "code",
   "execution_count": 3,
   "metadata": {},
   "outputs": [
    {
     "name": "stdout",
     "output_type": "stream",
     "text": [
      "Number of duplicated rows in file1.csv: 36120\n",
      "Number of duplicated rows in file2.csv: 37469\n"
     ]
    }
   ],
   "source": [
    "# Count and report duplicated rows\n",
    "count_duplicates_csv1 = duplicates_csv1.sum()\n",
    "count_duplicates_csv2 = duplicates_csv2.sum()\n",
    "\n",
    "print(f\"Number of duplicated rows in file1.csv: {count_duplicates_csv1}\")\n",
    "print(f\"Number of duplicated rows in file2.csv: {count_duplicates_csv2}\")\n",
    "\n"
   ]
  }
 ],
 "metadata": {
  "kernelspec": {
   "display_name": "MIAD_DESP",
   "language": "python",
   "name": "python3"
  },
  "language_info": {
   "codemirror_mode": {
    "name": "ipython",
    "version": 3
   },
   "file_extension": ".py",
   "mimetype": "text/x-python",
   "name": "python",
   "nbconvert_exporter": "python",
   "pygments_lexer": "ipython3",
   "version": "3.12.7"
  }
 },
 "nbformat": 4,
 "nbformat_minor": 2
}
